{
  "nbformat": 4,
  "nbformat_minor": 0,
  "metadata": {
    "colab": {
      "provenance": [],
      "authorship_tag": "ABX9TyPTbX2yMi01NRgNBhh/B1h+",
      "include_colab_link": true
    },
    "kernelspec": {
      "name": "python3",
      "display_name": "Python 3"
    },
    "language_info": {
      "name": "python"
    }
  },
  "cells": [
    {
      "cell_type": "markdown",
      "metadata": {
        "id": "view-in-github",
        "colab_type": "text"
      },
      "source": [
        "<a href=\"https://colab.research.google.com/github/tacoculbreth/bioinformatics1/blob/main/bioinfo1_final.ipynb\" target=\"_parent\"><img src=\"https://colab.research.google.com/assets/colab-badge.svg\" alt=\"Open In Colab\"/></a>"
      ]
    },
    {
      "cell_type": "markdown",
      "source": [
        "#생물정보학 및 실습 1 Final Project (Spring 2025)\n",
        "\n",
        "This notebook has been created with Google Colab."
      ],
      "metadata": {
        "id": "sb76nbCPmhU1"
      }
    },
    {
      "cell_type": "code",
      "source": [
        "from google.colab import drive\n",
        "drive.mount('/content/drive')"
      ],
      "metadata": {
        "colab": {
          "base_uri": "https://localhost:8080/"
        },
        "id": "R69LL1-DmWvQ",
        "outputId": "3a439607-eee0-48ef-c7aa-e8b8eb111dfd"
      },
      "execution_count": null,
      "outputs": [
        {
          "output_type": "stream",
          "name": "stdout",
          "text": [
            "Mounted at /content/drive\n"
          ]
        }
      ]
    },
    {
      "cell_type": "code",
      "source": [
        "!ls -al /content/drive/MyDrive/binfo1-datapack1/"
      ],
      "metadata": {
        "colab": {
          "base_uri": "https://localhost:8080/"
        },
        "id": "zFXwAOQGl6tx",
        "outputId": "ac4721be-8b24-4455-d0d9-600ed291e6e7"
      },
      "execution_count": null,
      "outputs": [
        {
          "output_type": "stream",
          "name": "stdout",
          "text": [
            "total 7162852\n",
            "-r-------- 1 root root 1370036258 Apr 27  2023 CLIP-35L33G.bam\n",
            "-r-------- 1 root root    3118336 Apr 27  2023 CLIP-35L33G.bam.bai\n",
            "-r-------- 1 root root       7113 May 11  2023 CLIP-let7g.bam\n",
            "-r-------- 1 root root      14561 May 11  2023 CLIP-let7g-gene.pileup\n",
            "-r-------- 1 root root    2685065 May 11  2023 CLIP-let7g.pileup\n",
            "-r-------- 1 root root  883334756 Apr 27  2023 gencode.gtf\n",
            "-r-------- 1 root root   24065406 Apr 27  2023 read-counts.txt\n",
            "-r-------- 1 root root        751 Apr 27  2023 read-counts.txt.summary\n",
            "-r-------- 1 root root 1003658801 Apr 27  2023 RNA-control.bam\n",
            "-r-------- 1 root root    2276104 Apr 27  2023 RNA-control.bam.bai\n",
            "-r-------- 1 root root 1260991122 Apr 27  2023 RNA-siLin28a.bam\n",
            "-r-------- 1 root root    2710744 Apr 27  2023 RNA-siLin28a.bam.bai\n",
            "-r-------- 1 root root  981684502 Apr 27  2023 RNA-siLuc.bam\n",
            "-r-------- 1 root root    2606104 Apr 27  2023 RNA-siLuc.bam.bai\n",
            "-r-------- 1 root root  737352902 Apr 27  2023 RPF-siLin28a.bam\n",
            "-r-------- 1 root root    2482768 Apr 27  2023 RPF-siLin28a.bam.bai\n",
            "-r-------- 1 root root 1055123479 Apr 27  2023 RPF-siLuc.bam\n",
            "-r-------- 1 root root    2605912 Apr 27  2023 RPF-siLuc.bam.bai\n"
          ]
        }
      ]
    },
    {
      "cell_type": "code",
      "execution_count": null,
      "metadata": {
        "id": "79PWhf1CgCpS",
        "outputId": "cefbfb04-cff4-4e53-c5e2-291c572853b1",
        "colab": {
          "base_uri": "https://localhost:8080/"
        }
      },
      "outputs": [
        {
          "output_type": "stream",
          "name": "stdout",
          "text": [
            "/content/drive/MyDrive/binfo1-datapack1/gencode.gtf.gz: Read-only file system\n"
          ]
        }
      ],
      "source": [
        "!wget --no-check-certificate -O /content/drive/MyDrive/binfo1-datapack1/gencode.gtf.gz http://ftp.ebi.ac.uk/pub/databases/gencode/Gencode_mouse/release_M27/gencode.vM27.annotation.gtf.gz"
      ]
    },
    {
      "cell_type": "code",
      "source": [
        "%cd /content/drive/MyDrive/binfo1-work"
      ],
      "metadata": {
        "colab": {
          "base_uri": "https://localhost:8080/"
        },
        "id": "0TSx-fdknCZe",
        "outputId": "9e405a4d-dac0-4e33-a681-c401ff79065b"
      },
      "execution_count": null,
      "outputs": [
        {
          "output_type": "stream",
          "name": "stdout",
          "text": [
            "/content/drive/MyDrive/binfo1-work\n"
          ]
        }
      ]
    },
    {
      "cell_type": "code",
      "source": [
        "!apt-get update\n",
        "!apt-get install -y samtools"
      ],
      "metadata": {
        "colab": {
          "base_uri": "https://localhost:8080/"
        },
        "id": "0yvy2u3LnmSN",
        "outputId": "ef05405f-3e77-4fbb-9d9b-7ee7d375d815"
      },
      "execution_count": null,
      "outputs": [
        {
          "output_type": "stream",
          "name": "stdout",
          "text": [
            "\r0% [Working]\r            \rGet:1 https://cloud.r-project.org/bin/linux/ubuntu jammy-cran40/ InRelease [3,632 B]\n",
            "\r            \rGet:2 https://developer.download.nvidia.com/compute/cuda/repos/ubuntu2204/x86_64  InRelease [1,581 B]\n",
            "\r0% [Connecting to archive.ubuntu.com (185.125.190.36)] [Waiting for headers] [1\r0% [Connecting to archive.ubuntu.com (185.125.190.36)] [Waiting for headers] [W\r0% [Connecting to archive.ubuntu.com (185.125.190.36)] [Waiting for headers] [W\r                                                                               \rGet:3 https://r2u.stat.illinois.edu/ubuntu jammy InRelease [6,555 B]\n",
            "Get:4 http://security.ubuntu.com/ubuntu jammy-security InRelease [129 kB]\n",
            "Hit:5 http://archive.ubuntu.com/ubuntu jammy InRelease\n",
            "Get:6 https://developer.download.nvidia.com/compute/cuda/repos/ubuntu2204/x86_64  Packages [1,741 kB]\n",
            "Get:7 http://archive.ubuntu.com/ubuntu jammy-updates InRelease [128 kB]\n",
            "Get:8 https://r2u.stat.illinois.edu/ubuntu jammy/main all Packages [9,003 kB]\n",
            "Get:9 https://ppa.launchpadcontent.net/deadsnakes/ppa/ubuntu jammy InRelease [18.1 kB]\n",
            "Hit:10 https://ppa.launchpadcontent.net/graphics-drivers/ppa/ubuntu jammy InRelease\n",
            "Hit:11 https://ppa.launchpadcontent.net/ubuntugis/ppa/ubuntu jammy InRelease\n",
            "Get:12 http://archive.ubuntu.com/ubuntu jammy-backports InRelease [127 kB]\n",
            "Get:13 http://security.ubuntu.com/ubuntu jammy-security/restricted amd64 Packages [4,476 kB]\n",
            "Get:14 https://r2u.stat.illinois.edu/ubuntu jammy/main amd64 Packages [2,739 kB]\n",
            "Get:15 https://ppa.launchpadcontent.net/deadsnakes/ppa/ubuntu jammy/main amd64 Packages [32.8 kB]\n",
            "Get:16 http://archive.ubuntu.com/ubuntu jammy-updates/main amd64 Packages [3,295 kB]\n",
            "Get:17 http://security.ubuntu.com/ubuntu jammy-security/main amd64 Packages [2,984 kB]\n",
            "Get:18 http://security.ubuntu.com/ubuntu jammy-security/universe amd64 Packages [1,246 kB]\n",
            "Get:19 http://archive.ubuntu.com/ubuntu jammy-updates/restricted amd64 Packages [4,630 kB]\n",
            "Get:20 http://archive.ubuntu.com/ubuntu jammy-updates/universe amd64 Packages [1,553 kB]\n",
            "Fetched 32.1 MB in 3s (10.1 MB/s)\n",
            "Reading package lists... Done\n",
            "W: Skipping acquire of configured file 'main/source/Sources' as repository 'https://r2u.stat.illinois.edu/ubuntu jammy InRelease' does not seem to provide it (sources.list entry misspelt?)\n",
            "Reading package lists... Done\n",
            "Building dependency tree... Done\n",
            "Reading state information... Done\n",
            "The following additional packages will be installed:\n",
            "  libhts3 libhtscodecs2\n",
            "Suggested packages:\n",
            "  cwltool\n",
            "The following NEW packages will be installed:\n",
            "  libhts3 libhtscodecs2 samtools\n",
            "0 upgraded, 3 newly installed, 0 to remove and 44 not upgraded.\n",
            "Need to get 963 kB of archives.\n",
            "After this operation, 2,270 kB of additional disk space will be used.\n",
            "Get:1 http://archive.ubuntu.com/ubuntu jammy/universe amd64 libhtscodecs2 amd64 1.1.1-3 [53.2 kB]\n",
            "Get:2 http://archive.ubuntu.com/ubuntu jammy/universe amd64 libhts3 amd64 1.13+ds-2build1 [390 kB]\n",
            "Get:3 http://archive.ubuntu.com/ubuntu jammy/universe amd64 samtools amd64 1.13-4 [520 kB]\n",
            "Fetched 963 kB in 1s (1,058 kB/s)\n",
            "Selecting previously unselected package libhtscodecs2:amd64.\n",
            "(Reading database ... 126111 files and directories currently installed.)\n",
            "Preparing to unpack .../libhtscodecs2_1.1.1-3_amd64.deb ...\n",
            "Unpacking libhtscodecs2:amd64 (1.1.1-3) ...\n",
            "Selecting previously unselected package libhts3:amd64.\n",
            "Preparing to unpack .../libhts3_1.13+ds-2build1_amd64.deb ...\n",
            "Unpacking libhts3:amd64 (1.13+ds-2build1) ...\n",
            "Selecting previously unselected package samtools.\n",
            "Preparing to unpack .../samtools_1.13-4_amd64.deb ...\n",
            "Unpacking samtools (1.13-4) ...\n",
            "Setting up libhtscodecs2:amd64 (1.1.1-3) ...\n",
            "Setting up libhts3:amd64 (1.13+ds-2build1) ...\n",
            "Setting up samtools (1.13-4) ...\n",
            "Processing triggers for man-db (2.10.2-1) ...\n",
            "Processing triggers for libc-bin (2.35-0ubuntu3.8) ...\n",
            "/sbin/ldconfig.real: /usr/local/lib/libtbbmalloc.so.2 is not a symbolic link\n",
            "\n",
            "/sbin/ldconfig.real: /usr/local/lib/libhwloc.so.15 is not a symbolic link\n",
            "\n",
            "/sbin/ldconfig.real: /usr/local/lib/libumf.so.0 is not a symbolic link\n",
            "\n",
            "/sbin/ldconfig.real: /usr/local/lib/libtbbbind_2_0.so.3 is not a symbolic link\n",
            "\n",
            "/sbin/ldconfig.real: /usr/local/lib/libtcm_debug.so.1 is not a symbolic link\n",
            "\n",
            "/sbin/ldconfig.real: /usr/local/lib/libtbbmalloc_proxy.so.2 is not a symbolic link\n",
            "\n",
            "/sbin/ldconfig.real: /usr/local/lib/libtbbbind_2_5.so.3 is not a symbolic link\n",
            "\n",
            "/sbin/ldconfig.real: /usr/local/lib/libur_adapter_opencl.so.0 is not a symbolic link\n",
            "\n",
            "/sbin/ldconfig.real: /usr/local/lib/libtbb.so.12 is not a symbolic link\n",
            "\n",
            "/sbin/ldconfig.real: /usr/local/lib/libur_adapter_level_zero.so.0 is not a symbolic link\n",
            "\n",
            "/sbin/ldconfig.real: /usr/local/lib/libtbbbind.so.3 is not a symbolic link\n",
            "\n",
            "/sbin/ldconfig.real: /usr/local/lib/libur_loader.so.0 is not a symbolic link\n",
            "\n",
            "/sbin/ldconfig.real: /usr/local/lib/libtcm.so.1 is not a symbolic link\n",
            "\n"
          ]
        }
      ]
    },
    {
      "cell_type": "code",
      "source": [
        "import subprocess\n",
        "\n",
        "for i in range(1, 20):\n",
        "    bam_chr_file = f\"CLIP-chr{i}.bam\"\n",
        "    cmd = f\"samtools view -b -o {bam_chr_file} CLIP-35L33G.bam chr{i}\"\n",
        "    subprocess.run(cmd, shell=True)\n",
        "\n",
        "    cmd_count = f\"samtools view {bam_chr_file} | wc -l\"\n",
        "    count = subprocess.check_output(cmd_count, shell=True)\n",
        "    print(f\"chr{i}: {count.decode().strip()}\")"
      ],
      "metadata": {
        "colab": {
          "base_uri": "https://localhost:8080/"
        },
        "id": "1GfDv0r_nSTs",
        "outputId": "42aa1dff-b28d-4cf1-8488-e9dd36815f12"
      },
      "execution_count": null,
      "outputs": [
        {
          "output_type": "stream",
          "name": "stdout",
          "text": [
            "chr1: 2912078\n",
            "chr2: 2216553\n",
            "chr3: 1726860\n",
            "chr4: 2290061\n",
            "chr5: 1671681\n",
            "chr6: 1716693\n",
            "chr7: 1607064\n",
            "chr8: 1980078\n",
            "chr9: 1698825\n",
            "chr10: 1470488\n",
            "chr11: 2473335\n",
            "chr12: 1251248\n",
            "chr13: 1669714\n",
            "chr14: 1105276\n",
            "chr15: 1179938\n",
            "chr16: 1092107\n",
            "chr17: 5326606\n",
            "chr18: 885098\n",
            "chr19: 823068\n"
          ]
        }
      ]
    },
    {
      "cell_type": "code",
      "source": [
        "for i in range(1, 20):\n",
        "\n",
        "    input_bam = f\"CLIP-chr{i}.bam\"\n",
        "    output_pileup = f\"CLIP-chr{i}.pileup\"\n",
        "\n",
        "    # peiform samtools mpileup\n",
        "    mpileup_command = f\"samtools mpileup {input_bam} > {output_pileup}\"\n",
        "    subprocess.run(mpileup_command, shell=True)\n",
        "\n",
        "    #check the number of lines\n",
        "    wc_command = f\"wc -l {output_pileup}\"\n",
        "    wc_output = subprocess.check_output(wc_command, shell=True)\n",
        "    line_count = int(wc_output.decode().split()[0])\n",
        "\n",
        "    print(f\"chr{i}: {line_count} lines\")"
      ],
      "metadata": {
        "colab": {
          "base_uri": "https://localhost:8080/"
        },
        "id": "vH42DP2Jpiej",
        "outputId": "cb50a4ef-ffea-4a37-9460-586712be397f"
      },
      "execution_count": null,
      "outputs": [
        {
          "output_type": "stream",
          "name": "stdout",
          "text": [
            "chr1: 77960011 lines\n",
            "chr2: 71477096 lines\n",
            "chr3: 55571207 lines\n",
            "chr4: 57663905 lines\n",
            "chr5: 56679177 lines\n",
            "chr6: 52596274 lines\n",
            "chr7: 51119086 lines\n",
            "chr8: 46263546 lines\n",
            "chr9: 47304486 lines\n",
            "chr10: 47666391 lines\n",
            "chr11: 54087894 lines\n",
            "chr12: 42069818 lines\n",
            "chr13: 44620190 lines\n",
            "chr14: 40488435 lines\n",
            "chr15: 38275840 lines\n",
            "chr16: 33197654 lines\n",
            "chr17: 36236232 lines\n",
            "chr18: 29849906 lines\n",
            "chr19: 23000226 lines\n"
          ]
        }
      ]
    },
    {
      "cell_type": "code",
      "source": [
        "#define the function to calculate the entropy\n",
        "\n",
        "import pandas as pd\n",
        "import numpy as np\n",
        "import re\n",
        "\n",
        "from scipy.stats import entropy\n",
        "\n",
        "def estimate_shannon_entropy(dna_sequence):\n",
        "    bases = collections.Counter([tmp_base for tmp_base in dna_sequence])\n",
        "    # define distribution\n",
        "    dist = [x/sum(bases.values()) for x in bases.values()]\n",
        "\n",
        "\n",
        "    entropy_value = entropy(dist, base=2)\n",
        "\n",
        "    return entropy_value"
      ],
      "metadata": {
        "id": "8HC-DI6SwwmU"
      },
      "execution_count": null,
      "outputs": []
    },
    {
      "cell_type": "code",
      "source": [
        "import pandas as pd\n",
        "\n",
        "\n",
        "for i in range(1, 20):\n",
        "\n",
        "    file_name = f'CLIP-chr{i}.pileup'\n",
        "\n",
        "    # Read the pileup data for the current chromosome\n",
        "    chr_pileup = pd.read_csv(file_name, sep='\\t', names=['chr', 'startpoint', 'reference', 'readcount', 'seq', 'score'], index_col=None)\n",
        "\n",
        "    # Filter the data based on readcount >50\n",
        "    chr_pileup_filtered = chr_pileup[chr_pileup['readcount'] > 50]\n",
        "\n",
        "    toremove = re.compile(r'[<>$*#+-]|\\^.|[0-9]')      #base qc\n",
        "\n",
        "    chr_pileup_filtered['sequence'] = chr_pileup_filtered['seq'].apply(lambda x: toremove.sub('', x))\n",
        "\n",
        "    chr_pileup_filtered = chr_pileup_filtered[['chr', 'startpoint', 'sequence']]\n",
        "\n",
        "    chr_pileup_filtered['length_seq'] = chr_pileup_filtered['sequence'].str.len()    #get the length of seq\n",
        "\n",
        "    chr_pileup_filtered['entropy'] = chr_pileup_filtered['sequence'].map(lambda x : estimate_shannon_entropy(x))   #calculate the entropy\n",
        "\n",
        "    chr_pileup_filtered['endpoint'] = chr_pileup_filtered['startpoint'] +  chr_pileup_filtered['length_seq']\n",
        "\n",
        "    chr_bedgraph_pileup_data = chr_pileup_filtered[['chr','startpoint','endpoint','entropy']]\n",
        "\n",
        "    chr_bedgraph_pileup_data['-12'] = chr_bedgraph_pileup_data['startpoint'] - 12\n",
        "    chr_bedgraph_pileup_data['+11'] = chr_bedgraph_pileup_data['startpoint'] + 11\n",
        "\n",
        "    chr_bedgraph_pileup_fromstart = chr_bedgraph_pileup_data[['chr','-12','+11','entropy']]    #get the interval\n",
        "\n",
        "    filtered_file_name = f'chr{i}_bedgraph_pileup_f.csv'\n",
        "\n",
        "\n",
        "    # Save the filtered data as a CSV file\n",
        "    chr_bedgraph_pileup_f.to_csv(filtered_file_name, index=False)\n",
        "\n",
        "    # current chromosome\n",
        "    print(f\"Filtered data for chromosome {i}:\")"
      ],
      "metadata": {
        "id": "dzdwMfG_w4kt"
      },
      "execution_count": null,
      "outputs": []
    },
    {
      "cell_type": "code",
      "source": [
        "!pwd\n"
      ],
      "metadata": {
        "colab": {
          "base_uri": "https://localhost:8080/"
        },
        "id": "dXGaeRHBx9FH",
        "outputId": "13506a52-15d9-4530-ea8e-e89b522717c2"
      },
      "execution_count": null,
      "outputs": [
        {
          "output_type": "stream",
          "name": "stdout",
          "text": [
            "/content\n"
          ]
        }
      ]
    }
  ]
}